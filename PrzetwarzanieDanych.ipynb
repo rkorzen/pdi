{
 "cells": [
  {
   "cell_type": "code",
   "execution_count": null,
   "id": "8020a599-e0ac-464b-9ef3-089b47091bb0",
   "metadata": {},
   "outputs": [],
   "source": []
  },
  {
   "cell_type": "markdown",
   "id": "fdd079d7-a5b2-48c3-b8f7-26131b0da1f4",
   "metadata": {},
   "source": [
    "# Wprowadzenie do przetwarzania danych\n",
    "\n",
    "## wprowadzenie do jupyter notebook\n",
    "\n",
    "* komórki typu `markdown`\n",
    "* komórki typy `code`\n",
    "* skróty klawiaturow\n",
    "\n",
    "esc - przejscie do trybu polecen\n",
    "\n",
    "```\n",
    "a - above dodanie u góry komórki\n",
    "b - below dodanie u dołu\n",
    "m - zmiana markdown\n",
    "y - zmiana na code\n",
    "```\n",
    "enter - przejscie do trybu edycji\n",
    "\n",
    "```\n",
    "shift + Enter - wykonanie komórki i przejście do kolejnej (lub tworzy nowa jak brak)\n",
    "alt + Enter - wykona i utworzy nowa i przejdzie do niej\n",
    "ctrl + Enter - wykona i pozostanie w danej komórce\n",
    "```\n"
   ]
  },
  {
   "cell_type": "code",
   "execution_count": 14,
   "id": "733595be-8ca4-4802-bf79-b526270f9501",
   "metadata": {},
   "outputs": [
    {
     "name": "stdout",
     "output_type": "stream",
     "text": [
      "Collecting pandas\n",
      "  Downloading pandas-2.2.2-cp312-cp312-win_amd64.whl.metadata (19 kB)\n",
      "Collecting numpy>=1.26.0 (from pandas)\n",
      "  Downloading numpy-1.26.4-cp312-cp312-win_amd64.whl.metadata (61 kB)\n",
      "     ---------------------------------------- 0.0/61.0 kB ? eta -:--:--\n",
      "     ------ --------------------------------- 10.2/61.0 kB ? eta -:--:--\n",
      "     -------------------------------------- 61.0/61.0 kB 819.4 kB/s eta 0:00:00\n",
      "Requirement already satisfied: python-dateutil>=2.8.2 in c:\\users\\kurs\\appdata\\local\\programs\\python\\python312\\lib\\site-packages (from pandas) (2.9.0.post0)\n",
      "Collecting pytz>=2020.1 (from pandas)\n",
      "  Downloading pytz-2024.1-py2.py3-none-any.whl.metadata (22 kB)\n",
      "Collecting tzdata>=2022.7 (from pandas)\n",
      "  Downloading tzdata-2024.1-py2.py3-none-any.whl.metadata (1.4 kB)\n",
      "Requirement already satisfied: six>=1.5 in c:\\users\\kurs\\appdata\\local\\programs\\python\\python312\\lib\\site-packages (from python-dateutil>=2.8.2->pandas) (1.16.0)\n",
      "Downloading pandas-2.2.2-cp312-cp312-win_amd64.whl (11.5 MB)\n",
      "   ---------------------------------------- 0.0/11.5 MB ? eta -:--:--\n",
      "    --------------------------------------- 0.2/11.5 MB 4.1 MB/s eta 0:00:03\n",
      "   -- ------------------------------------- 0.8/11.5 MB 8.1 MB/s eta 0:00:02\n",
      "   ------- -------------------------------- 2.3/11.5 MB 16.0 MB/s eta 0:00:01\n",
      "   --------------- ------------------------ 4.4/11.5 MB 23.5 MB/s eta 0:00:01\n",
      "   ---------------------- ----------------- 6.6/11.5 MB 28.1 MB/s eta 0:00:01\n",
      "   ----------------------------- ---------- 8.4/11.5 MB 29.8 MB/s eta 0:00:01\n",
      "   ------------------------------------- -- 10.7/11.5 MB 40.9 MB/s eta 0:00:01\n",
      "   ---------------------------------------  11.5/11.5 MB 46.7 MB/s eta 0:00:01\n",
      "   ---------------------------------------- 11.5/11.5 MB 38.5 MB/s eta 0:00:00\n",
      "Downloading numpy-1.26.4-cp312-cp312-win_amd64.whl (15.5 MB)\n",
      "   ---------------------------------------- 0.0/15.5 MB ? eta -:--:--\n",
      "   ---- ----------------------------------- 1.9/15.5 MB 59.5 MB/s eta 0:00:01\n",
      "   -------- ------------------------------- 3.3/15.5 MB 35.5 MB/s eta 0:00:01\n",
      "   ---------------- ----------------------- 6.2/15.5 MB 49.9 MB/s eta 0:00:01\n",
      "   ------------------------ --------------- 9.7/15.5 MB 51.4 MB/s eta 0:00:01\n",
      "   ----------------------------- ---------- 11.5/15.5 MB 50.4 MB/s eta 0:00:01\n",
      "   ------------------------------------ --- 14.0/15.5 MB 54.4 MB/s eta 0:00:01\n",
      "   ---------------------------------------  15.5/15.5 MB 50.4 MB/s eta 0:00:01\n",
      "   ---------------------------------------  15.5/15.5 MB 50.4 MB/s eta 0:00:01\n",
      "   ---------------------------------------- 15.5/15.5 MB 36.4 MB/s eta 0:00:00\n",
      "Downloading pytz-2024.1-py2.py3-none-any.whl (505 kB)\n",
      "   ---------------------------------------- 0.0/505.5 kB ? eta -:--:--\n",
      "   --------------------------------------- 505.5/505.5 kB 31.0 MB/s eta 0:00:00\n",
      "Downloading tzdata-2024.1-py2.py3-none-any.whl (345 kB)\n",
      "   ---------------------------------------- 0.0/345.4 kB ? eta -:--:--\n",
      "   --------------------------------------- 345.4/345.4 kB 10.8 MB/s eta 0:00:00\n",
      "Installing collected packages: pytz, tzdata, numpy, pandas\n",
      "Successfully installed numpy-1.26.4 pandas-2.2.2 pytz-2024.1 tzdata-2024.1\n"
     ]
    }
   ],
   "source": [
    "# !dir\n",
    "!pip install pandas"
   ]
  },
  {
   "cell_type": "code",
   "execution_count": 16,
   "id": "9e87cfba-36a9-4ae6-bacb-e2a5fe86714d",
   "metadata": {},
   "outputs": [],
   "source": [
    "import pandas as pd"
   ]
  },
  {
   "cell_type": "code",
   "execution_count": 17,
   "id": "1a06187a-2db7-45bb-855e-4d59cec977a5",
   "metadata": {},
   "outputs": [
    {
     "data": {
      "text/plain": [
       "'2.2.2'"
      ]
     },
     "execution_count": 17,
     "metadata": {},
     "output_type": "execute_result"
    }
   ],
   "source": [
    "pd.__version__"
   ]
  },
  {
   "cell_type": "code",
   "execution_count": 18,
   "id": "5ed54a82-deea-4b40-abd8-4e8ced6dc027",
   "metadata": {},
   "outputs": [
    {
     "data": {
      "text/plain": [
       "pandas.core.series.Series"
      ]
     },
     "execution_count": 18,
     "metadata": {},
     "output_type": "execute_result"
    }
   ],
   "source": [
    "pd.Series"
   ]
  },
  {
   "cell_type": "code",
   "execution_count": 19,
   "id": "52cb6436-91a9-444a-a56e-839898b3926d",
   "metadata": {},
   "outputs": [
    {
     "data": {
      "text/plain": [
       "pandas.core.frame.DataFrame"
      ]
     },
     "execution_count": 19,
     "metadata": {},
     "output_type": "execute_result"
    }
   ],
   "source": [
    "pd.DataFrame"
   ]
  },
  {
   "cell_type": "code",
   "execution_count": 20,
   "id": "ede0ea90-3f30-411e-a90b-957064de319a",
   "metadata": {},
   "outputs": [],
   "source": [
    "data = [\"a\", \"b\", \"c\", \"d\"]\n",
    "series = pd.Series(data)"
   ]
  },
  {
   "cell_type": "code",
   "execution_count": 21,
   "id": "25fa3f42-5fe3-47cd-b10a-1c6ccdd11e74",
   "metadata": {},
   "outputs": [
    {
     "data": {
      "text/plain": [
       "0    a\n",
       "1    b\n",
       "2    c\n",
       "3    d\n",
       "dtype: object"
      ]
     },
     "execution_count": 21,
     "metadata": {},
     "output_type": "execute_result"
    }
   ],
   "source": [
    "series"
   ]
  },
  {
   "cell_type": "code",
   "execution_count": 22,
   "id": "503e65f2-1d7a-4f5a-ab58-acbceb0d031c",
   "metadata": {},
   "outputs": [
    {
     "data": {
      "text/plain": [
       "a    1\n",
       "b    2\n",
       "c    3\n",
       "dtype: int64"
      ]
     },
     "execution_count": 22,
     "metadata": {},
     "output_type": "execute_result"
    }
   ],
   "source": [
    "data = {\"a\": 1, \"b\": 2, \"c\": 3}\n",
    "series = pd.Series(data)\n",
    "series"
   ]
  },
  {
   "cell_type": "code",
   "execution_count": 24,
   "id": "58ff6642-6232-4e59-8bd6-9479f76b6ed8",
   "metadata": {},
   "outputs": [],
   "source": [
    "data = [\n",
    "    {\"name\": \"Ola\", \"age\": 28, \"city\": \"Warszawa\"}, \n",
    "    {\"name\": \"Łukasz\", \"age\": 32, \"city\": \"Warszawa\"}, \n",
    "    {\"name\": \"Kamil\", \"age\": 27, \"city\": \"Wrocław\"}, \n",
    "    {\"name\": \"Rafał\", \"age\": 40, \"city\": \"Warszawa\"}, \n",
    "]"
   ]
  },
  {
   "cell_type": "code",
   "execution_count": 25,
   "id": "20991209-e5e7-4e41-800c-12d98bdf1c28",
   "metadata": {},
   "outputs": [],
   "source": [
    "df = pd.DataFrame(data)"
   ]
  },
  {
   "cell_type": "code",
   "execution_count": 26,
   "id": "9a7c60b9-d6e6-408b-8b8b-4c5c263fbb60",
   "metadata": {},
   "outputs": [
    {
     "data": {
      "text/html": [
       "<div>\n",
       "<style scoped>\n",
       "    .dataframe tbody tr th:only-of-type {\n",
       "        vertical-align: middle;\n",
       "    }\n",
       "\n",
       "    .dataframe tbody tr th {\n",
       "        vertical-align: top;\n",
       "    }\n",
       "\n",
       "    .dataframe thead th {\n",
       "        text-align: right;\n",
       "    }\n",
       "</style>\n",
       "<table border=\"1\" class=\"dataframe\">\n",
       "  <thead>\n",
       "    <tr style=\"text-align: right;\">\n",
       "      <th></th>\n",
       "      <th>name</th>\n",
       "      <th>age</th>\n",
       "      <th>city</th>\n",
       "    </tr>\n",
       "  </thead>\n",
       "  <tbody>\n",
       "    <tr>\n",
       "      <th>0</th>\n",
       "      <td>Ola</td>\n",
       "      <td>28</td>\n",
       "      <td>Warszawa</td>\n",
       "    </tr>\n",
       "    <tr>\n",
       "      <th>1</th>\n",
       "      <td>Łukasz</td>\n",
       "      <td>32</td>\n",
       "      <td>Warszawa</td>\n",
       "    </tr>\n",
       "    <tr>\n",
       "      <th>2</th>\n",
       "      <td>Kamil</td>\n",
       "      <td>27</td>\n",
       "      <td>Wrocław</td>\n",
       "    </tr>\n",
       "    <tr>\n",
       "      <th>3</th>\n",
       "      <td>Rafał</td>\n",
       "      <td>40</td>\n",
       "      <td>Warszawa</td>\n",
       "    </tr>\n",
       "  </tbody>\n",
       "</table>\n",
       "</div>"
      ],
      "text/plain": [
       "     name  age      city\n",
       "0     Ola   28  Warszawa\n",
       "1  Łukasz   32  Warszawa\n",
       "2   Kamil   27   Wrocław\n",
       "3   Rafał   40  Warszawa"
      ]
     },
     "execution_count": 26,
     "metadata": {},
     "output_type": "execute_result"
    }
   ],
   "source": [
    "df"
   ]
  },
  {
   "cell_type": "code",
   "execution_count": 29,
   "id": "35a90f3b-7a16-4078-b2c5-56ee7658b43e",
   "metadata": {},
   "outputs": [],
   "source": [
    "data = {\n",
    "    \"name\": [\"Ola\", \"Łukasz\"],\n",
    "    \"age\": [28, 32],\n",
    "    \"city\": [\"Warszawa\", \"Olecko\"]\n",
    "}"
   ]
  },
  {
   "cell_type": "code",
   "execution_count": 30,
   "id": "5af15ae1-5c01-4694-b987-45d6e1bd6bf8",
   "metadata": {},
   "outputs": [
    {
     "data": {
      "text/html": [
       "<div>\n",
       "<style scoped>\n",
       "    .dataframe tbody tr th:only-of-type {\n",
       "        vertical-align: middle;\n",
       "    }\n",
       "\n",
       "    .dataframe tbody tr th {\n",
       "        vertical-align: top;\n",
       "    }\n",
       "\n",
       "    .dataframe thead th {\n",
       "        text-align: right;\n",
       "    }\n",
       "</style>\n",
       "<table border=\"1\" class=\"dataframe\">\n",
       "  <thead>\n",
       "    <tr style=\"text-align: right;\">\n",
       "      <th></th>\n",
       "      <th>name</th>\n",
       "      <th>age</th>\n",
       "      <th>city</th>\n",
       "    </tr>\n",
       "  </thead>\n",
       "  <tbody>\n",
       "    <tr>\n",
       "      <th>0</th>\n",
       "      <td>Ola</td>\n",
       "      <td>28</td>\n",
       "      <td>Warszawa</td>\n",
       "    </tr>\n",
       "    <tr>\n",
       "      <th>1</th>\n",
       "      <td>Łukasz</td>\n",
       "      <td>32</td>\n",
       "      <td>Olecko</td>\n",
       "    </tr>\n",
       "  </tbody>\n",
       "</table>\n",
       "</div>"
      ],
      "text/plain": [
       "     name  age      city\n",
       "0     Ola   28  Warszawa\n",
       "1  Łukasz   32    Olecko"
      ]
     },
     "execution_count": 30,
     "metadata": {},
     "output_type": "execute_result"
    }
   ],
   "source": [
    "df1 = pd.DataFrame(data)\n",
    "df1"
   ]
  },
  {
   "cell_type": "code",
   "execution_count": 32,
   "id": "834a50ed-97fd-4476-b77d-55b9b2b2ae6f",
   "metadata": {},
   "outputs": [
    {
     "data": {
      "text/html": [
       "<div>\n",
       "<style scoped>\n",
       "    .dataframe tbody tr th:only-of-type {\n",
       "        vertical-align: middle;\n",
       "    }\n",
       "\n",
       "    .dataframe tbody tr th {\n",
       "        vertical-align: top;\n",
       "    }\n",
       "\n",
       "    .dataframe thead th {\n",
       "        text-align: right;\n",
       "    }\n",
       "</style>\n",
       "<table border=\"1\" class=\"dataframe\">\n",
       "  <thead>\n",
       "    <tr style=\"text-align: right;\">\n",
       "      <th></th>\n",
       "      <th>name</th>\n",
       "      <th>age</th>\n",
       "      <th>city</th>\n",
       "    </tr>\n",
       "  </thead>\n",
       "  <tbody>\n",
       "    <tr>\n",
       "      <th>0</th>\n",
       "      <td>Ola</td>\n",
       "      <td>28</td>\n",
       "      <td>Warszawa</td>\n",
       "    </tr>\n",
       "  </tbody>\n",
       "</table>\n",
       "</div>"
      ],
      "text/plain": [
       "  name  age      city\n",
       "0  Ola   28  Warszawa"
      ]
     },
     "execution_count": 32,
     "metadata": {},
     "output_type": "execute_result"
    }
   ],
   "source": [
    "df.head(1)"
   ]
  },
  {
   "cell_type": "code",
   "execution_count": 34,
   "id": "1ebdfaec-4563-47c7-a78a-5c70cc169768",
   "metadata": {},
   "outputs": [
    {
     "data": {
      "text/html": [
       "<div>\n",
       "<style scoped>\n",
       "    .dataframe tbody tr th:only-of-type {\n",
       "        vertical-align: middle;\n",
       "    }\n",
       "\n",
       "    .dataframe tbody tr th {\n",
       "        vertical-align: top;\n",
       "    }\n",
       "\n",
       "    .dataframe thead th {\n",
       "        text-align: right;\n",
       "    }\n",
       "</style>\n",
       "<table border=\"1\" class=\"dataframe\">\n",
       "  <thead>\n",
       "    <tr style=\"text-align: right;\">\n",
       "      <th></th>\n",
       "      <th>name</th>\n",
       "      <th>age</th>\n",
       "      <th>city</th>\n",
       "    </tr>\n",
       "  </thead>\n",
       "  <tbody>\n",
       "    <tr>\n",
       "      <th>3</th>\n",
       "      <td>Rafał</td>\n",
       "      <td>40</td>\n",
       "      <td>Warszawa</td>\n",
       "    </tr>\n",
       "  </tbody>\n",
       "</table>\n",
       "</div>"
      ],
      "text/plain": [
       "    name  age      city\n",
       "3  Rafał   40  Warszawa"
      ]
     },
     "execution_count": 34,
     "metadata": {},
     "output_type": "execute_result"
    }
   ],
   "source": [
    "df.tail(1)"
   ]
  },
  {
   "cell_type": "code",
   "execution_count": 35,
   "id": "65c24017-0957-4959-bf34-6df7e61ee4be",
   "metadata": {},
   "outputs": [
    {
     "name": "stdout",
     "output_type": "stream",
     "text": [
      "<class 'pandas.core.frame.DataFrame'>\n",
      "RangeIndex: 4 entries, 0 to 3\n",
      "Data columns (total 3 columns):\n",
      " #   Column  Non-Null Count  Dtype \n",
      "---  ------  --------------  ----- \n",
      " 0   name    4 non-null      object\n",
      " 1   age     4 non-null      int64 \n",
      " 2   city    4 non-null      object\n",
      "dtypes: int64(1), object(2)\n",
      "memory usage: 228.0+ bytes\n"
     ]
    }
   ],
   "source": [
    "df.info()"
   ]
  },
  {
   "cell_type": "code",
   "execution_count": 36,
   "id": "7d36cadc-92b6-4664-bd47-f585b5946645",
   "metadata": {},
   "outputs": [
    {
     "data": {
      "text/html": [
       "<div>\n",
       "<style scoped>\n",
       "    .dataframe tbody tr th:only-of-type {\n",
       "        vertical-align: middle;\n",
       "    }\n",
       "\n",
       "    .dataframe tbody tr th {\n",
       "        vertical-align: top;\n",
       "    }\n",
       "\n",
       "    .dataframe thead th {\n",
       "        text-align: right;\n",
       "    }\n",
       "</style>\n",
       "<table border=\"1\" class=\"dataframe\">\n",
       "  <thead>\n",
       "    <tr style=\"text-align: right;\">\n",
       "      <th></th>\n",
       "      <th>age</th>\n",
       "    </tr>\n",
       "  </thead>\n",
       "  <tbody>\n",
       "    <tr>\n",
       "      <th>count</th>\n",
       "      <td>4.000000</td>\n",
       "    </tr>\n",
       "    <tr>\n",
       "      <th>mean</th>\n",
       "      <td>31.750000</td>\n",
       "    </tr>\n",
       "    <tr>\n",
       "      <th>std</th>\n",
       "      <td>5.909033</td>\n",
       "    </tr>\n",
       "    <tr>\n",
       "      <th>min</th>\n",
       "      <td>27.000000</td>\n",
       "    </tr>\n",
       "    <tr>\n",
       "      <th>25%</th>\n",
       "      <td>27.750000</td>\n",
       "    </tr>\n",
       "    <tr>\n",
       "      <th>50%</th>\n",
       "      <td>30.000000</td>\n",
       "    </tr>\n",
       "    <tr>\n",
       "      <th>75%</th>\n",
       "      <td>34.000000</td>\n",
       "    </tr>\n",
       "    <tr>\n",
       "      <th>max</th>\n",
       "      <td>40.000000</td>\n",
       "    </tr>\n",
       "  </tbody>\n",
       "</table>\n",
       "</div>"
      ],
      "text/plain": [
       "             age\n",
       "count   4.000000\n",
       "mean   31.750000\n",
       "std     5.909033\n",
       "min    27.000000\n",
       "25%    27.750000\n",
       "50%    30.000000\n",
       "75%    34.000000\n",
       "max    40.000000"
      ]
     },
     "execution_count": 36,
     "metadata": {},
     "output_type": "execute_result"
    }
   ],
   "source": [
    "df.describe()"
   ]
  },
  {
   "cell_type": "code",
   "execution_count": 40,
   "id": "b747a21f-13c8-4730-a725-d792ec0c3d3b",
   "metadata": {},
   "outputs": [],
   "source": [
    "df.to_csv(\"klasa.csv\", index=False)"
   ]
  },
  {
   "cell_type": "code",
   "execution_count": 41,
   "id": "4192b792-c154-47f3-afea-09f6e84b926d",
   "metadata": {},
   "outputs": [
    {
     "name": "stdout",
     "output_type": "stream",
     "text": [
      " Volume in drive C has no label.\n",
      " Volume Serial Number is 584F-CC44\n",
      "\n",
      " Directory of C:\\Users\\kurs\\workspace\n",
      "\n",
      "29.05.2024  11:51    <DIR>          .\n",
      "29.05.2024  11:51    <DIR>          ..\n",
      "29.05.2024  11:26    <DIR>          .idea\n",
      "29.05.2024  11:38    <DIR>          .ipynb_checkpoints\n",
      "29.05.2024  09:38               351 argparse_example.py\n",
      "29.05.2024  10:27    <DIR>          dane\n",
      "28.05.2024  16:30               101 dane.json\n",
      "28.05.2024  15:40                75 data.txt\n",
      "28.05.2024  10:45               448 formatowanie_napisow.py\n",
      "28.05.2024  16:30               600 funkcje_w_pythonie.py\n",
      "28.05.2024  09:40               191 hello_world.py\n",
      "28.05.2024  11:15             1˙782 instrukcje_warunkowe.py\n",
      "28.05.2024  16:37               645 json_example.py\n",
      "29.05.2024  09:54             1˙360 kantor.py\n",
      "29.05.2024  11:52                92 klasa.csv\n",
      "28.05.2024  14:12             2˙103 kolekcje_wbudowane_w_pythona.py\n",
      "29.05.2024  10:39                 6 localfile.txt\n",
      "28.05.2024  14:30               433 petle_w_pythonie.py\n",
      "28.05.2024  15:07               420 pliki_csv.py\n",
      "29.05.2024  10:44               421 praca_z_paramiko.py\n",
      "28.05.2024  14:47               505 praca_z_plikami.py\n",
      "29.05.2024  11:11    <DIR>          projekt1\n",
      "29.05.2024  11:12    <DIR>          projekt2\n",
      "28.05.2024  15:42             1˙186 proste_przetwarzanie.py\n",
      "29.05.2024  11:50            18˙403 PrzetwarzanieDanych.ipynb\n",
      "29.05.2024  11:08                35 requirements.txt\n",
      "29.05.2024  10:29               969 system_plikow_w_pythonie.py\n",
      "28.05.2024  10:27             1˙705 typy_zmiennych.py\n",
      "29.05.2024  09:31               196 uzycie_kalkulatora.py\n",
      "29.05.2024  09:31                25 waluty_do_kupienia.csv\n",
      "29.05.2024  10:06               613 wyrazenia_regularne.py\n",
      "28.05.2024  16:46                30 xxxx.json\n",
      "28.05.2024  14:47                30 xxxx.txt\n",
      "28.05.2024  14:54               762 zadanie_1.py\n",
      "28.05.2024  16:30               661 zadanie_2.py\n",
      "29.05.2024  11:20                29 zaleznosci.py\n",
      "29.05.2024  09:27    <DIR>          __pycache__\n",
      "              29 File(s)         34˙177 bytes\n",
      "               8 Dir(s)   9˙864˙994˙816 bytes free\n"
     ]
    }
   ],
   "source": [
    "!dir"
   ]
  },
  {
   "cell_type": "code",
   "execution_count": 43,
   "id": "707d4aed-b06e-4aad-b4d8-a8fd35755a83",
   "metadata": {},
   "outputs": [],
   "source": [
    "# %load klasa.csv\n",
    "name,age,city\n",
    "Ola,28,Warszawa\n",
    "Łukasz,32,Warszawa\n",
    "Kamil,27,Wrocław\n",
    "Rafał,40,Warszawa\n"
   ]
  },
  {
   "cell_type": "code",
   "execution_count": 45,
   "id": "316987ac-0c4e-4ebc-88b2-c37fbe78ad44",
   "metadata": {},
   "outputs": [
    {
     "name": "stdout",
     "output_type": "stream",
     "text": [
      "Collecting openpyxl\n",
      "  Downloading openpyxl-3.1.2-py2.py3-none-any.whl.metadata (2.5 kB)\n",
      "Collecting et-xmlfile (from openpyxl)\n",
      "  Downloading et_xmlfile-1.1.0-py3-none-any.whl.metadata (1.8 kB)\n",
      "Downloading openpyxl-3.1.2-py2.py3-none-any.whl (249 kB)\n",
      "   ---------------------------------------- 0.0/250.0 kB ? eta -:--:--\n",
      "   - -------------------------------------- 10.2/250.0 kB ? eta -:--:--\n",
      "   - -------------------------------------- 10.2/250.0 kB ? eta -:--:--\n",
      "   ------ -------------------------------- 41.0/250.0 kB 326.8 kB/s eta 0:00:01\n",
      "   ----------- --------------------------- 71.7/250.0 kB 438.9 kB/s eta 0:00:01\n",
      "   -------------------------- ----------- 174.1/250.0 kB 876.1 kB/s eta 0:00:01\n",
      "   ---------------------------------------- 250.0/250.0 kB 1.0 MB/s eta 0:00:00\n",
      "Downloading et_xmlfile-1.1.0-py3-none-any.whl (4.7 kB)\n",
      "Installing collected packages: et-xmlfile, openpyxl\n",
      "Successfully installed et-xmlfile-1.1.0 openpyxl-3.1.2\n"
     ]
    }
   ],
   "source": [
    "!pip install openpyxl"
   ]
  },
  {
   "cell_type": "code",
   "execution_count": 46,
   "id": "9269527a-f592-4976-9a5c-e4265c6e4672",
   "metadata": {},
   "outputs": [],
   "source": [
    "df.to_excel(\"klasa.xlsx\", index=False)"
   ]
  },
  {
   "cell_type": "code",
   "execution_count": 47,
   "id": "00b7f6c1-d90b-4805-8955-606986a9c935",
   "metadata": {},
   "outputs": [],
   "source": [
    "df.to_json(\"klasa.json\", index=False)"
   ]
  },
  {
   "cell_type": "code",
   "execution_count": 49,
   "id": "52953334-e290-4355-bd02-1b0ccdfd610d",
   "metadata": {},
   "outputs": [],
   "source": [
    "# pip install sqlalchemy"
   ]
  },
  {
   "cell_type": "code",
   "execution_count": 50,
   "id": "95ddb3f2-72b7-4bc1-93cd-81ecf8e5f19a",
   "metadata": {},
   "outputs": [],
   "source": [
    "from sqlalchemy import create_engine"
   ]
  },
  {
   "cell_type": "code",
   "execution_count": 51,
   "id": "6f3b38a4-51e4-4c6f-8031-ac4019867c3b",
   "metadata": {},
   "outputs": [
    {
     "data": {
      "text/plain": [
       "4"
      ]
     },
     "execution_count": 51,
     "metadata": {},
     "output_type": "execute_result"
    }
   ],
   "source": [
    "engine = create_engine(\"sqlite:///example.db\")\n",
    "df.to_sql(\"klasa\", engine, index=False, if_exists=\"replace\")"
   ]
  },
  {
   "cell_type": "code",
   "execution_count": 52,
   "id": "02df993f-c366-4a05-8117-bf7627b0a5dd",
   "metadata": {},
   "outputs": [],
   "source": [
    "df.to_html(\"klasa.html\", index=False)"
   ]
  },
  {
   "cell_type": "code",
   "execution_count": 54,
   "id": "a8a72571-bab1-48d7-850e-08c3539e101f",
   "metadata": {},
   "outputs": [],
   "source": [
    "# df.to_xml(\"klasa.html\", index=False)"
   ]
  },
  {
   "cell_type": "code",
   "execution_count": 55,
   "id": "c4beb9af-9b0f-45c2-8204-083a59f15e8d",
   "metadata": {},
   "outputs": [
    {
     "data": {
      "text/html": [
       "<div>\n",
       "<style scoped>\n",
       "    .dataframe tbody tr th:only-of-type {\n",
       "        vertical-align: middle;\n",
       "    }\n",
       "\n",
       "    .dataframe tbody tr th {\n",
       "        vertical-align: top;\n",
       "    }\n",
       "\n",
       "    .dataframe thead th {\n",
       "        text-align: right;\n",
       "    }\n",
       "</style>\n",
       "<table border=\"1\" class=\"dataframe\">\n",
       "  <thead>\n",
       "    <tr style=\"text-align: right;\">\n",
       "      <th></th>\n",
       "      <th>name</th>\n",
       "      <th>age</th>\n",
       "      <th>city</th>\n",
       "    </tr>\n",
       "  </thead>\n",
       "  <tbody>\n",
       "    <tr>\n",
       "      <th>0</th>\n",
       "      <td>Ola</td>\n",
       "      <td>28</td>\n",
       "      <td>Warszawa</td>\n",
       "    </tr>\n",
       "    <tr>\n",
       "      <th>1</th>\n",
       "      <td>Łukasz</td>\n",
       "      <td>32</td>\n",
       "      <td>Warszawa</td>\n",
       "    </tr>\n",
       "    <tr>\n",
       "      <th>2</th>\n",
       "      <td>Kamil</td>\n",
       "      <td>27</td>\n",
       "      <td>Wrocław</td>\n",
       "    </tr>\n",
       "    <tr>\n",
       "      <th>3</th>\n",
       "      <td>Rafał</td>\n",
       "      <td>40</td>\n",
       "      <td>Warszawa</td>\n",
       "    </tr>\n",
       "  </tbody>\n",
       "</table>\n",
       "</div>"
      ],
      "text/plain": [
       "     name  age      city\n",
       "0     Ola   28  Warszawa\n",
       "1  Łukasz   32  Warszawa\n",
       "2   Kamil   27   Wrocław\n",
       "3   Rafał   40  Warszawa"
      ]
     },
     "execution_count": 55,
     "metadata": {},
     "output_type": "execute_result"
    }
   ],
   "source": [
    "pd.read_excel(\"klasa.xlsx\")"
   ]
  },
  {
   "cell_type": "code",
   "execution_count": 56,
   "id": "95085875-34a9-43cb-b0de-213a34c369b3",
   "metadata": {},
   "outputs": [
    {
     "data": {
      "text/html": [
       "<div>\n",
       "<style scoped>\n",
       "    .dataframe tbody tr th:only-of-type {\n",
       "        vertical-align: middle;\n",
       "    }\n",
       "\n",
       "    .dataframe tbody tr th {\n",
       "        vertical-align: top;\n",
       "    }\n",
       "\n",
       "    .dataframe thead th {\n",
       "        text-align: right;\n",
       "    }\n",
       "</style>\n",
       "<table border=\"1\" class=\"dataframe\">\n",
       "  <thead>\n",
       "    <tr style=\"text-align: right;\">\n",
       "      <th></th>\n",
       "      <th>name</th>\n",
       "      <th>age</th>\n",
       "      <th>city</th>\n",
       "    </tr>\n",
       "  </thead>\n",
       "  <tbody>\n",
       "    <tr>\n",
       "      <th>0</th>\n",
       "      <td>Ola</td>\n",
       "      <td>28</td>\n",
       "      <td>Warszawa</td>\n",
       "    </tr>\n",
       "    <tr>\n",
       "      <th>1</th>\n",
       "      <td>Łukasz</td>\n",
       "      <td>32</td>\n",
       "      <td>Warszawa</td>\n",
       "    </tr>\n",
       "    <tr>\n",
       "      <th>2</th>\n",
       "      <td>Kamil</td>\n",
       "      <td>27</td>\n",
       "      <td>Wrocław</td>\n",
       "    </tr>\n",
       "    <tr>\n",
       "      <th>3</th>\n",
       "      <td>Rafał</td>\n",
       "      <td>40</td>\n",
       "      <td>Warszawa</td>\n",
       "    </tr>\n",
       "  </tbody>\n",
       "</table>\n",
       "</div>"
      ],
      "text/plain": [
       "     name  age      city\n",
       "0     Ola   28  Warszawa\n",
       "1  Łukasz   32  Warszawa\n",
       "2   Kamil   27   Wrocław\n",
       "3   Rafał   40  Warszawa"
      ]
     },
     "execution_count": 56,
     "metadata": {},
     "output_type": "execute_result"
    }
   ],
   "source": [
    "pd.read_sql(\"klasa\", engine)"
   ]
  },
  {
   "cell_type": "code",
   "execution_count": 58,
   "id": "a0ba9492-a2eb-45cb-9cab-97cbe98ede78",
   "metadata": {},
   "outputs": [
    {
     "data": {
      "text/html": [
       "<div>\n",
       "<style scoped>\n",
       "    .dataframe tbody tr th:only-of-type {\n",
       "        vertical-align: middle;\n",
       "    }\n",
       "\n",
       "    .dataframe tbody tr th {\n",
       "        vertical-align: top;\n",
       "    }\n",
       "\n",
       "    .dataframe thead th {\n",
       "        text-align: right;\n",
       "    }\n",
       "</style>\n",
       "<table border=\"1\" class=\"dataframe\">\n",
       "  <thead>\n",
       "    <tr style=\"text-align: right;\">\n",
       "      <th></th>\n",
       "      <th>name</th>\n",
       "      <th>age</th>\n",
       "      <th>city</th>\n",
       "    </tr>\n",
       "  </thead>\n",
       "  <tbody>\n",
       "    <tr>\n",
       "      <th>0</th>\n",
       "      <td>Ola</td>\n",
       "      <td>28</td>\n",
       "      <td>Warszawa</td>\n",
       "    </tr>\n",
       "    <tr>\n",
       "      <th>1</th>\n",
       "      <td>Łukasz</td>\n",
       "      <td>32</td>\n",
       "      <td>Warszawa</td>\n",
       "    </tr>\n",
       "    <tr>\n",
       "      <th>2</th>\n",
       "      <td>Kamil</td>\n",
       "      <td>27</td>\n",
       "      <td>Wrocław</td>\n",
       "    </tr>\n",
       "    <tr>\n",
       "      <th>3</th>\n",
       "      <td>Rafał</td>\n",
       "      <td>40</td>\n",
       "      <td>Warszawa</td>\n",
       "    </tr>\n",
       "  </tbody>\n",
       "</table>\n",
       "</div>"
      ],
      "text/plain": [
       "     name  age      city\n",
       "0     Ola   28  Warszawa\n",
       "1  Łukasz   32  Warszawa\n",
       "2   Kamil   27   Wrocław\n",
       "3   Rafał   40  Warszawa"
      ]
     },
     "execution_count": 58,
     "metadata": {},
     "output_type": "execute_result"
    }
   ],
   "source": [
    "pd.read_csv(\"klasa.csv\")"
   ]
  },
  {
   "cell_type": "code",
   "execution_count": 59,
   "id": "c5bdb3af-14f8-40bc-a769-04f0f16e51a5",
   "metadata": {},
   "outputs": [
    {
     "data": {
      "text/plain": [
       "['ArrowDtype',\n",
       " 'BooleanDtype',\n",
       " 'Categorical',\n",
       " 'CategoricalDtype',\n",
       " 'CategoricalIndex',\n",
       " 'DataFrame',\n",
       " 'DateOffset',\n",
       " 'DatetimeIndex',\n",
       " 'DatetimeTZDtype',\n",
       " 'ExcelFile',\n",
       " 'ExcelWriter',\n",
       " 'Flags',\n",
       " 'Float32Dtype',\n",
       " 'Float64Dtype',\n",
       " 'Grouper',\n",
       " 'HDFStore',\n",
       " 'Index',\n",
       " 'IndexSlice',\n",
       " 'Int16Dtype',\n",
       " 'Int32Dtype',\n",
       " 'Int64Dtype',\n",
       " 'Int8Dtype',\n",
       " 'Interval',\n",
       " 'IntervalDtype',\n",
       " 'IntervalIndex',\n",
       " 'MultiIndex',\n",
       " 'NA',\n",
       " 'NaT',\n",
       " 'NamedAgg',\n",
       " 'Period',\n",
       " 'PeriodDtype',\n",
       " 'PeriodIndex',\n",
       " 'RangeIndex',\n",
       " 'Series',\n",
       " 'SparseDtype',\n",
       " 'StringDtype',\n",
       " 'Timedelta',\n",
       " 'TimedeltaIndex',\n",
       " 'Timestamp',\n",
       " 'UInt16Dtype',\n",
       " 'UInt32Dtype',\n",
       " 'UInt64Dtype',\n",
       " 'UInt8Dtype',\n",
       " '__all__',\n",
       " '__builtins__',\n",
       " '__cached__',\n",
       " '__doc__',\n",
       " '__docformat__',\n",
       " '__file__',\n",
       " '__git_version__',\n",
       " '__loader__',\n",
       " '__name__',\n",
       " '__package__',\n",
       " '__path__',\n",
       " '__spec__',\n",
       " '__version__',\n",
       " '_built_with_meson',\n",
       " '_config',\n",
       " '_is_numpy_dev',\n",
       " '_libs',\n",
       " '_pandas_datetime_CAPI',\n",
       " '_pandas_parser_CAPI',\n",
       " '_testing',\n",
       " '_typing',\n",
       " '_version_meson',\n",
       " 'annotations',\n",
       " 'api',\n",
       " 'array',\n",
       " 'arrays',\n",
       " 'bdate_range',\n",
       " 'compat',\n",
       " 'concat',\n",
       " 'core',\n",
       " 'crosstab',\n",
       " 'cut',\n",
       " 'date_range',\n",
       " 'describe_option',\n",
       " 'errors',\n",
       " 'eval',\n",
       " 'factorize',\n",
       " 'from_dummies',\n",
       " 'get_dummies',\n",
       " 'get_option',\n",
       " 'infer_freq',\n",
       " 'interval_range',\n",
       " 'io',\n",
       " 'isna',\n",
       " 'isnull',\n",
       " 'json_normalize',\n",
       " 'lreshape',\n",
       " 'melt',\n",
       " 'merge',\n",
       " 'merge_asof',\n",
       " 'merge_ordered',\n",
       " 'notna',\n",
       " 'notnull',\n",
       " 'offsets',\n",
       " 'option_context',\n",
       " 'options',\n",
       " 'pandas',\n",
       " 'period_range',\n",
       " 'pivot',\n",
       " 'pivot_table',\n",
       " 'plotting',\n",
       " 'qcut',\n",
       " 'read_clipboard',\n",
       " 'read_csv',\n",
       " 'read_excel',\n",
       " 'read_feather',\n",
       " 'read_fwf',\n",
       " 'read_gbq',\n",
       " 'read_hdf',\n",
       " 'read_html',\n",
       " 'read_json',\n",
       " 'read_orc',\n",
       " 'read_parquet',\n",
       " 'read_pickle',\n",
       " 'read_sas',\n",
       " 'read_spss',\n",
       " 'read_sql',\n",
       " 'read_sql_query',\n",
       " 'read_sql_table',\n",
       " 'read_stata',\n",
       " 'read_table',\n",
       " 'read_xml',\n",
       " 'reset_option',\n",
       " 'set_eng_float_format',\n",
       " 'set_option',\n",
       " 'show_versions',\n",
       " 'test',\n",
       " 'testing',\n",
       " 'timedelta_range',\n",
       " 'to_datetime',\n",
       " 'to_numeric',\n",
       " 'to_pickle',\n",
       " 'to_timedelta',\n",
       " 'tseries',\n",
       " 'unique',\n",
       " 'util',\n",
       " 'value_counts',\n",
       " 'wide_to_long']"
      ]
     },
     "execution_count": 59,
     "metadata": {},
     "output_type": "execute_result"
    }
   ],
   "source": [
    "dir(pd)"
   ]
  },
  {
   "cell_type": "code",
   "execution_count": null,
   "id": "c90a5f0c-4cc6-4a63-8c24-1d6eceeac326",
   "metadata": {},
   "outputs": [],
   "source": [
    "1. utworz df ktory zawierac bedzie kolumny: marka, model\n",
    "2. wyeksportuj go do excela (bez indeksu)\n",
    "3. wczytaj go do inngo df "
   ]
  }
 ],
 "metadata": {
  "kernelspec": {
   "display_name": "Python 3 (ipykernel)",
   "language": "python",
   "name": "python3"
  },
  "language_info": {
   "codemirror_mode": {
    "name": "ipython",
    "version": 3
   },
   "file_extension": ".py",
   "mimetype": "text/x-python",
   "name": "python",
   "nbconvert_exporter": "python",
   "pygments_lexer": "ipython3",
   "version": "3.12.3"
  }
 },
 "nbformat": 4,
 "nbformat_minor": 5
}
